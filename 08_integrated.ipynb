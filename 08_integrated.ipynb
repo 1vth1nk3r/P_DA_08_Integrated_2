{
 "cells": [
  {
   "cell_type": "markdown",
   "id": "da1a846b",
   "metadata": {},
   "source": [
    "Project description\n",
    "===\n",
    "\n",
    "```\n",
    "Here we have a dataset on a startup that sells food products. We want to explore users' behaviour patterns. \n",
    "\n",
    "First, we should do some data preprocessing: clean the data, fill in the missing values (if any), and change data types. Also, we need to add some new columns to help in our analysis. After doing so, we could explore our data.\n",
    "\n",
    "```\n",
    "\n",
    "**Description of the data**\n",
    "```\n",
    "/datasets/logs_exp_us.csv\n",
    "    EventName — event name\n",
    "    DeviceIDHash — unique user identifier\n",
    "    EventTimestamp — event time\n",
    "    ExpId — experiment number: 246 and 247 are the control groups, 248 is the test group\n",
    "```"
   ]
  },
  {
   "cell_type": "markdown",
   "id": "e480207f",
   "metadata": {},
   "source": [
    "## Open the data and study the general information"
   ]
  },
  {
   "cell_type": "code",
   "execution_count": 1,
   "id": "48fd64d9",
   "metadata": {},
   "outputs": [
    {
     "data": {
      "application/javascript": [
       "IPython.OutputArea.prototype._should_scroll = function(lines) {\n",
       "    return false;\n",
       "}\n"
      ],
      "text/plain": [
       "<IPython.core.display.Javascript object>"
      ]
     },
     "metadata": {},
     "output_type": "display_data"
    }
   ],
   "source": [
    "%%javascript\n",
    "IPython.OutputArea.prototype._should_scroll = function(lines) {\n",
    "    return false;\n",
    "}"
   ]
  },
  {
   "cell_type": "code",
   "execution_count": 2,
   "id": "983feb81",
   "metadata": {},
   "outputs": [],
   "source": [
    "import math\n",
    "import matplotlib.pyplot as plt \n",
    "import numpy as np\n",
    "import pandas as pd\n",
    "import plotly.express as px\n",
    "import seaborn as sns\n",
    "from statsmodels.stats.proportion import proportions_ztest\n",
    "from IPython.display import HTML, display_html\n",
    "from IPython.core.interactiveshell import InteractiveShell"
   ]
  },
  {
   "cell_type": "code",
   "execution_count": 3,
   "id": "d9eee447",
   "metadata": {},
   "outputs": [],
   "source": [
    "%matplotlib inline\n",
    "%config InlineBackend.figure_format = 'png'\n",
    "%config InlineBackend.figure_format = 'retina'\n",
    "\n",
    "pd.set_option('display.float_format', '{:.3f}'.format)\n",
    "pd.set_option('display.max_colwidth', None) # no wrap\n",
    "pd.set_option('display.max_columns', 500) # columns number"
   ]
  },
  {
   "cell_type": "code",
   "execution_count": 4,
   "id": "c6d3aa28",
   "metadata": {},
   "outputs": [],
   "source": [
    "logs_dtype = {'DeviceIDHash': 'uint64', 'ExpId': 'category', 'EventName': 'category'}\n",
    "\n",
    "try:\n",
    "    logs = pd.read_csv('./datasets/logs_exp_us.csv', sep='\\t', dtype=logs_dtype)\n",
    "except:\n",
    "    logs = pd.read_csv('../datasets/logs_exp_us.csv', sep='\\t', dtype=logs_dtype)"
   ]
  },
  {
   "cell_type": "code",
   "execution_count": 5,
   "id": "da7c1f03",
   "metadata": {},
   "outputs": [
    {
     "name": "stdout",
     "output_type": "stream",
     "text": [
      "<class 'pandas.core.frame.DataFrame'>\n",
      "RangeIndex: 244126 entries, 0 to 244125\n",
      "Data columns (total 4 columns):\n",
      " #   Column    Non-Null Count   Dtype         \n",
      "---  ------    --------------   -----         \n",
      " 0   event     244126 non-null  category      \n",
      " 1   user_id   244126 non-null  uint64        \n",
      " 2   ev_dtime  244126 non-null  datetime64[ns]\n",
      " 3   group     244126 non-null  category      \n",
      "dtypes: category(2), datetime64[ns](1), uint64(1)\n",
      "memory usage: 4.2 MB\n"
     ]
    },
    {
     "data": {
      "text/html": [
       "<div>\n",
       "<style scoped>\n",
       "    .dataframe tbody tr th:only-of-type {\n",
       "        vertical-align: middle;\n",
       "    }\n",
       "\n",
       "    .dataframe tbody tr th {\n",
       "        vertical-align: top;\n",
       "    }\n",
       "\n",
       "    .dataframe thead th {\n",
       "        text-align: right;\n",
       "    }\n",
       "</style>\n",
       "<table border=\"1\" class=\"dataframe\">\n",
       "  <thead>\n",
       "    <tr style=\"text-align: right;\">\n",
       "      <th></th>\n",
       "      <th>event</th>\n",
       "      <th>group</th>\n",
       "    </tr>\n",
       "  </thead>\n",
       "  <tbody>\n",
       "    <tr>\n",
       "      <th>count</th>\n",
       "      <td>244126</td>\n",
       "      <td>244126</td>\n",
       "    </tr>\n",
       "    <tr>\n",
       "      <th>unique</th>\n",
       "      <td>5</td>\n",
       "      <td>3</td>\n",
       "    </tr>\n",
       "    <tr>\n",
       "      <th>top</th>\n",
       "      <td>MainScreenAppear</td>\n",
       "      <td>248</td>\n",
       "    </tr>\n",
       "    <tr>\n",
       "      <th>freq</th>\n",
       "      <td>119205</td>\n",
       "      <td>85747</td>\n",
       "    </tr>\n",
       "  </tbody>\n",
       "</table>\n",
       "</div>"
      ],
      "text/plain": [
       "                   event   group\n",
       "count             244126  244126\n",
       "unique                 5       3\n",
       "top     MainScreenAppear     248\n",
       "freq              119205   85747"
      ]
     },
     "metadata": {},
     "output_type": "display_data"
    },
    {
     "data": {
      "text/html": [
       "<div>\n",
       "<style scoped>\n",
       "    .dataframe tbody tr th:only-of-type {\n",
       "        vertical-align: middle;\n",
       "    }\n",
       "\n",
       "    .dataframe tbody tr th {\n",
       "        vertical-align: top;\n",
       "    }\n",
       "\n",
       "    .dataframe thead th {\n",
       "        text-align: right;\n",
       "    }\n",
       "</style>\n",
       "<table border=\"1\" class=\"dataframe\">\n",
       "  <thead>\n",
       "    <tr style=\"text-align: right;\">\n",
       "      <th></th>\n",
       "      <th>event</th>\n",
       "      <th>user_id</th>\n",
       "      <th>ev_dtime</th>\n",
       "      <th>group</th>\n",
       "    </tr>\n",
       "  </thead>\n",
       "  <tbody>\n",
       "    <tr>\n",
       "      <th>140654</th>\n",
       "      <td>MainScreenAppear</td>\n",
       "      <td>5613440135781762576</td>\n",
       "      <td>2019-08-04 22:18:21</td>\n",
       "      <td>246</td>\n",
       "    </tr>\n",
       "    <tr>\n",
       "      <th>171613</th>\n",
       "      <td>OffersScreenAppear</td>\n",
       "      <td>4882051544540389942</td>\n",
       "      <td>2019-08-05 18:00:23</td>\n",
       "      <td>247</td>\n",
       "    </tr>\n",
       "    <tr>\n",
       "      <th>11745</th>\n",
       "      <td>MainScreenAppear</td>\n",
       "      <td>2563064043024540302</td>\n",
       "      <td>2019-08-01 09:15:06</td>\n",
       "      <td>247</td>\n",
       "    </tr>\n",
       "    <tr>\n",
       "      <th>43918</th>\n",
       "      <td>OffersScreenAppear</td>\n",
       "      <td>6421065471506532863</td>\n",
       "      <td>2019-08-02 06:01:47</td>\n",
       "      <td>246</td>\n",
       "    </tr>\n",
       "    <tr>\n",
       "      <th>113765</th>\n",
       "      <td>CartScreenAppear</td>\n",
       "      <td>197027893265565660</td>\n",
       "      <td>2019-08-04 08:01:12</td>\n",
       "      <td>246</td>\n",
       "    </tr>\n",
       "  </tbody>\n",
       "</table>\n",
       "</div>"
      ],
      "text/plain": [
       "                     event              user_id            ev_dtime group\n",
       "140654    MainScreenAppear  5613440135781762576 2019-08-04 22:18:21   246\n",
       "171613  OffersScreenAppear  4882051544540389942 2019-08-05 18:00:23   247\n",
       "11745     MainScreenAppear  2563064043024540302 2019-08-01 09:15:06   247\n",
       "43918   OffersScreenAppear  6421065471506532863 2019-08-02 06:01:47   246\n",
       "113765    CartScreenAppear   197027893265565660 2019-08-04 08:01:12   246"
      ]
     },
     "metadata": {},
     "output_type": "display_data"
    },
    {
     "name": "stdout",
     "output_type": "stream",
     "text": [
      "Duplicates in data: 413 (0.17%)\n"
     ]
    }
   ],
   "source": [
    "logs.columns = ['event', 'user_id', 'ev_dtime', 'group']\n",
    "logs['ev_dtime'] = pd.to_datetime(logs['ev_dtime'], unit='s')\n",
    "logs.info()\n",
    "display(logs.describe(include = ['category']))\n",
    "display(logs.sample(5))\n",
    "print('Duplicates in data: {0} ({1:.2%})'.format(logs.duplicated().sum(), logs.duplicated().sum()/logs.shape[0]))"
   ]
  },
  {
   "cell_type": "markdown",
   "id": "107e0b3a",
   "metadata": {},
   "source": [
    "**Conclusion**\n",
    "\n",
    "There are no missing values in this dataset.\n",
    "\n",
    "After the first investigation, we changed data types of `EventName` and `ExpId` to categories and downcasted `DeviceIDHash` to unsigned while reading from the file. Also, we changed the `EventTimestamp` column from timestamp to datetime and renamed the columns. \n",
    "\n",
    "We have a small number of duplicates (0.17%) in this dataset, which I assume is safe to drop."
   ]
  },
  {
   "cell_type": "markdown",
   "id": "8b38372e",
   "metadata": {},
   "source": [
    "## Data preprocessing"
   ]
  },
  {
   "cell_type": "code",
   "execution_count": 6,
   "id": "4026bf9e",
   "metadata": {},
   "outputs": [
    {
     "name": "stdout",
     "output_type": "stream",
     "text": [
      "Number of users in several groups at the same time is 0.\n"
     ]
    }
   ],
   "source": [
    "logs = logs.drop_duplicates()\n",
    "\n",
    "logs['ev_date'] = logs['ev_dtime'].dt.date\n",
    "\n",
    "logs['group'] = logs['group'].replace({'246': 'A1', '247': 'A2', '248': 'B'}).astype('category')  \n",
    "\n",
    "badvisitors = logs.groupby(['user_id'], as_index=False).agg({'group': 'nunique'})\n",
    "badvisitors = badvisitors[badvisitors['group']>1]\n",
    "print('Number of users in several groups at the same time is {0:.0f}.'.format(badvisitors.shape[0]))"
   ]
  },
  {
   "cell_type": "markdown",
   "id": "3f2ca4c0",
   "metadata": {},
   "source": [
    "**Conclusion**\n",
    "\n",
    "We dropped duplicates and checked that we didn't have any users in several groups simultaneously.  \n",
    "Also, I added a separate column for a date and changed the values indicating the group to be more human-readable."
   ]
  },
  {
   "cell_type": "markdown",
   "id": "4225f579",
   "metadata": {},
   "source": [
    "## Analyze the data"
   ]
  },
  {
   "cell_type": "markdown",
   "id": "70600c5a",
   "metadata": {},
   "source": [
    "### Study and check the data\n",
    "\n",
    "#### How many events are in the logs?"
   ]
  },
  {
   "cell_type": "code",
   "execution_count": 7,
   "id": "7bda00e8",
   "metadata": {},
   "outputs": [
    {
     "name": "stdout",
     "output_type": "stream",
     "text": [
      "There are 243713 events in logs.\n"
     ]
    }
   ],
   "source": [
    "numevents = logs.shape[0]\n",
    "print('There are {0} events in logs.'.format(numevents))"
   ]
  },
  {
   "cell_type": "markdown",
   "id": "071ed0ec",
   "metadata": {},
   "source": [
    "---\n",
    "#### How many users are in the logs?"
   ]
  },
  {
   "cell_type": "code",
   "execution_count": 8,
   "id": "7938aefc",
   "metadata": {},
   "outputs": [
    {
     "name": "stdout",
     "output_type": "stream",
     "text": [
      "There are 7551 users in logs.\n"
     ]
    }
   ],
   "source": [
    "numusers = logs['user_id'].nunique()\n",
    "print('There are {0} users in logs.'.format(numusers))"
   ]
  },
  {
   "cell_type": "markdown",
   "id": "8602734a",
   "metadata": {},
   "source": [
    "---\n",
    "#### What's the average number of events per user?"
   ]
  },
  {
   "cell_type": "code",
   "execution_count": 9,
   "id": "03286ba9",
   "metadata": {},
   "outputs": [
    {
     "name": "stdout",
     "output_type": "stream",
     "text": [
      "There average number of events per user is 32.\n"
     ]
    }
   ],
   "source": [
    "print('There average number of events per user is {0:.0f}.'.format(numevents/numusers))"
   ]
  },
  {
   "cell_type": "code",
   "execution_count": 10,
   "id": "8ce422dc",
   "metadata": {},
   "outputs": [
    {
     "data": {
      "text/html": [
       "<div>\n",
       "<style scoped>\n",
       "    .dataframe tbody tr th:only-of-type {\n",
       "        vertical-align: middle;\n",
       "    }\n",
       "\n",
       "    .dataframe tbody tr th {\n",
       "        vertical-align: top;\n",
       "    }\n",
       "\n",
       "    .dataframe thead th {\n",
       "        text-align: right;\n",
       "    }\n",
       "</style>\n",
       "<table border=\"1\" class=\"dataframe\">\n",
       "  <thead>\n",
       "    <tr style=\"text-align: right;\">\n",
       "      <th></th>\n",
       "      <th>user_id</th>\n",
       "      <th>ev_dtime</th>\n",
       "    </tr>\n",
       "  </thead>\n",
       "  <tbody>\n",
       "    <tr>\n",
       "      <th>count</th>\n",
       "      <td>7551.000</td>\n",
       "      <td>7551.000</td>\n",
       "    </tr>\n",
       "    <tr>\n",
       "      <th>mean</th>\n",
       "      <td>4677318727102441472.000</td>\n",
       "      <td>32.276</td>\n",
       "    </tr>\n",
       "    <tr>\n",
       "      <th>std</th>\n",
       "      <td>2655343100552021504.000</td>\n",
       "      <td>65.154</td>\n",
       "    </tr>\n",
       "    <tr>\n",
       "      <th>min</th>\n",
       "      <td>6888746892508752.000</td>\n",
       "      <td>1.000</td>\n",
       "    </tr>\n",
       "    <tr>\n",
       "      <th>25%</th>\n",
       "      <td>2397700422051031552.000</td>\n",
       "      <td>9.000</td>\n",
       "    </tr>\n",
       "    <tr>\n",
       "      <th>50%</th>\n",
       "      <td>4688021588771745792.000</td>\n",
       "      <td>20.000</td>\n",
       "    </tr>\n",
       "    <tr>\n",
       "      <th>75%</th>\n",
       "      <td>7007352523282521088.000</td>\n",
       "      <td>37.000</td>\n",
       "    </tr>\n",
       "    <tr>\n",
       "      <th>max</th>\n",
       "      <td>9222603179720523776.000</td>\n",
       "      <td>2307.000</td>\n",
       "    </tr>\n",
       "  </tbody>\n",
       "</table>\n",
       "</div>"
      ],
      "text/plain": [
       "                      user_id  ev_dtime\n",
       "count                7551.000  7551.000\n",
       "mean  4677318727102441472.000    32.276\n",
       "std   2655343100552021504.000    65.154\n",
       "min      6888746892508752.000     1.000\n",
       "25%   2397700422051031552.000     9.000\n",
       "50%   4688021588771745792.000    20.000\n",
       "75%   7007352523282521088.000    37.000\n",
       "max   9222603179720523776.000  2307.000"
      ]
     },
     "metadata": {},
     "output_type": "display_data"
    },
    {
     "data": {
      "image/png": "[encoded data removed]",
      "text/plain": [
       "<Figure size 1700x500 with 1 Axes>"
      ]
     },
     "metadata": {
      "image/png": {
       "height": 494,
       "width": 1690
      }
     },
     "output_type": "display_data"
    }
   ],
   "source": [
    "perusr = logs.groupby('user_id', as_index=False).agg({'ev_dtime':'count'})\n",
    "display(perusr.describe())\n",
    "g = sns.displot(data=perusr, x='ev_dtime', kind=\"hist\", bins=500, height=5, aspect=17/5);\n",
    "g.figure.suptitle(\"Number of events per user\", fontsize=14);\n",
    "g.set(xlabel='Number of events', ylabel='Count');\n",
    "plt.show()"
   ]
  },
  {
   "cell_type": "markdown",
   "id": "60960763",
   "metadata": {},
   "source": [
    "---\n",
    "#### What period of time does the data cover? Find the maximum and the minimum date. Plot a histogram by date and time. Can you be sure that you have equally complete data for the entire period? Older events could end up in some users' logs for technical reasons, and this could skew the overall picture. Find the moment at which the data starts to be complete and ignore the earlier section. What period does the data actually represent?"
   ]
  },
  {
   "cell_type": "code",
   "execution_count": 11,
   "id": "de02dcd6",
   "metadata": {},
   "outputs": [
    {
     "name": "stdout",
     "output_type": "stream",
     "text": [
      "The dates range is from 2019-07-25 to 2019-08-07.\n"
     ]
    }
   ],
   "source": [
    "print('The dates range is from {0} to {1}.'.format(logs['ev_date'].min(), logs['ev_date'].max() ))"
   ]
  },
  {
   "cell_type": "code",
   "execution_count": 12,
   "id": "f1d849d7",
   "metadata": {},
   "outputs": [
    {
     "data": {
      "image/png": "[encoded data removed]",
      "text/plain": [
       "<Figure size 1700x500 with 1 Axes>"
      ]
     },
     "metadata": {
      "image/png": {
       "height": 494,
       "width": 1690
      }
     },
     "output_type": "display_data"
    }
   ],
   "source": [
    "g = sns.displot(data=logs, x='ev_dtime', kind=\"hist\", bins=500, height=5, aspect=17/5);\n",
    "g.figure.suptitle(\"Number of events\", fontsize=14);\n",
    "g.set(xlabel='Number of events', ylabel='Count');\n",
    "plt.show()"
   ]
  },
  {
   "cell_type": "code",
   "execution_count": 13,
   "id": "c9efb893",
   "metadata": {},
   "outputs": [
    {
     "name": "stdout",
     "output_type": "stream",
     "text": [
      "The new dates range is from 2019-08-01 to 2019-08-07.\n"
     ]
    }
   ],
   "source": [
    "oldlogs = logs[logs['ev_dtime'] < pd.to_datetime('2019-08-01')]\n",
    "logs = logs[~logs['user_id'].isin(oldlogs['user_id'].unique())]\n",
    "print('The new dates range is from {0} to {1}.'.format(logs['ev_date'].min(), logs['ev_date'].max() ))"
   ]
  },
  {
   "cell_type": "markdown",
   "id": "a1e284e6",
   "metadata": {},
   "source": [
    "**Conclusion**\n",
    "\n",
    "The initial range of our data was from 2019-07-25 to 2019-08-07. But before 2019-08-01, we had very few data points. Thus it's better to exclude users who came before. So the new range is from 2019-08-01 to 2019-08-07.\n",
    "\n",
    "---"
   ]
  },
  {
   "cell_type": "markdown",
   "id": "9e5e2e2d",
   "metadata": {},
   "source": [
    "#### Did you lose many events and users when excluding the older data?"
   ]
  },
  {
   "cell_type": "code",
   "execution_count": 14,
   "id": "3f2aabeb",
   "metadata": {},
   "outputs": [
    {
     "name": "stdout",
     "output_type": "stream",
     "text": [
      "We excluded 1451 (19.22%) users and 60057 (24.64%) events.\n"
     ]
    }
   ],
   "source": [
    "print('We excluded {0} ({1:.2%}) users and {2} ({3:.2%}) events.'\\\n",
    "      .format(oldlogs['user_id'].nunique(), oldlogs['user_id'].nunique()/numusers,\\\n",
    "              numevents-logs.shape[0], (numevents-logs.shape[0])/numevents))"
   ]
  },
  {
   "cell_type": "markdown",
   "id": "e18f36d1",
   "metadata": {},
   "source": [
    "---\n",
    "#### Make sure you have users from all three experimental groups."
   ]
  },
  {
   "cell_type": "code",
   "execution_count": 15,
   "id": "9f4b755f",
   "metadata": {},
   "outputs": [
    {
     "data": {
      "text/plain": [
       "group\n",
       "A1    59622\n",
       "A2    58630\n",
       "B     65404\n",
       "Name: user_id, dtype: int64"
      ]
     },
     "execution_count": 15,
     "metadata": {},
     "output_type": "execute_result"
    }
   ],
   "source": [
    "logs.groupby(['group'])['user_id'].count()"
   ]
  },
  {
   "cell_type": "markdown",
   "id": "4fc510b6",
   "metadata": {},
   "source": [
    "---\n",
    "### Study the event funnel\n",
    "#### See what events are in the logs and their frequency of occurrence. Sort them by frequency."
   ]
  },
  {
   "cell_type": "code",
   "execution_count": 16,
   "id": "e0d667b3",
   "metadata": {},
   "outputs": [
    {
     "data": {
      "text/html": [
       "<style type=\"text/css\">\n",
       "</style>\n",
       "<table id=\"T_8aa3f\">\n",
       "  <thead>\n",
       "    <tr>\n",
       "      <th id=\"T_8aa3f_level0_col0\" class=\"col_heading level0 col0\" >event</th>\n",
       "      <th id=\"T_8aa3f_level0_col1\" class=\"col_heading level0 col1\" >num_events</th>\n",
       "      <th id=\"T_8aa3f_level0_col2\" class=\"col_heading level0 col2\" >ev_prop</th>\n",
       "    </tr>\n",
       "  </thead>\n",
       "  <tbody>\n",
       "    <tr>\n",
       "      <td id=\"T_8aa3f_row0_col0\" class=\"data row0 col0\" >MainScreenAppear</td>\n",
       "      <td id=\"T_8aa3f_row0_col1\" class=\"data row0 col1\" >88829</td>\n",
       "      <td id=\"T_8aa3f_row0_col2\" class=\"data row0 col2\" >48.37%</td>\n",
       "    </tr>\n",
       "    <tr>\n",
       "      <td id=\"T_8aa3f_row1_col0\" class=\"data row1 col0\" >OffersScreenAppear</td>\n",
       "      <td id=\"T_8aa3f_row1_col1\" class=\"data row1 col1\" >35950</td>\n",
       "      <td id=\"T_8aa3f_row1_col2\" class=\"data row1 col2\" >19.57%</td>\n",
       "    </tr>\n",
       "    <tr>\n",
       "      <td id=\"T_8aa3f_row2_col0\" class=\"data row2 col0\" >CartScreenAppear</td>\n",
       "      <td id=\"T_8aa3f_row2_col1\" class=\"data row2 col1\" >32265</td>\n",
       "      <td id=\"T_8aa3f_row2_col2\" class=\"data row2 col2\" >17.57%</td>\n",
       "    </tr>\n",
       "    <tr>\n",
       "      <td id=\"T_8aa3f_row3_col0\" class=\"data row3 col0\" >PaymentScreenSuccessful</td>\n",
       "      <td id=\"T_8aa3f_row3_col1\" class=\"data row3 col1\" >25621</td>\n",
       "      <td id=\"T_8aa3f_row3_col2\" class=\"data row3 col2\" >13.95%</td>\n",
       "    </tr>\n",
       "    <tr>\n",
       "      <td id=\"T_8aa3f_row4_col0\" class=\"data row4 col0\" >Tutorial</td>\n",
       "      <td id=\"T_8aa3f_row4_col1\" class=\"data row4 col1\" >991</td>\n",
       "      <td id=\"T_8aa3f_row4_col2\" class=\"data row4 col2\" >0.54%</td>\n",
       "    </tr>\n",
       "  </tbody>\n",
       "</table>\n"
      ],
      "text/plain": [
       "<pandas.io.formats.style.Styler at 0x1231c23d0>"
      ]
     },
     "execution_count": 16,
     "metadata": {},
     "output_type": "execute_result"
    }
   ],
   "source": [
    "ev_freq = logs.groupby('event', as_index=False).agg({'ev_dtime':'count',})\\\n",
    "              .rename(columns={'ev_dtime':'num_events',})\\\n",
    "              .sort_values(['num_events'], ascending=False)\n",
    "\n",
    "ev_freq['ev_prop'] = ev_freq['num_events']/logs.shape[0]\n",
    "ev_freq.style.hide(axis='index').format(precision=2, formatter={'ev_prop': \"{:.2%}\",})"
   ]
  },
  {
   "cell_type": "markdown",
   "id": "a45afcd0",
   "metadata": {},
   "source": [
    "**Conclusion**  \n",
    "Almost half of the events are `MainScreenAppear`, and `Tutorial` is less than 1%.\n",
    "\n",
    "---"
   ]
  },
  {
   "cell_type": "markdown",
   "id": "ab035f64",
   "metadata": {},
   "source": [
    "#### Find the number of users who performed each of these actions. Sort the events by the number of users. Calculate the proportion of users who performed the action at least once."
   ]
  },
  {
   "cell_type": "code",
   "execution_count": 17,
   "id": "ff96ed10",
   "metadata": {},
   "outputs": [
    {
     "data": {
      "text/html": [
       "<style type=\"text/css\">\n",
       "</style>\n",
       "<table id=\"T_f6e52\">\n",
       "  <thead>\n",
       "    <tr>\n",
       "      <th id=\"T_f6e52_level0_col0\" class=\"col_heading level0 col0\" >event</th>\n",
       "      <th id=\"T_f6e52_level0_col1\" class=\"col_heading level0 col1\" >num_users</th>\n",
       "      <th id=\"T_f6e52_level0_col2\" class=\"col_heading level0 col2\" >user_prop</th>\n",
       "    </tr>\n",
       "  </thead>\n",
       "  <tbody>\n",
       "    <tr>\n",
       "      <td id=\"T_f6e52_row0_col0\" class=\"data row0 col0\" >MainScreenAppear</td>\n",
       "      <td id=\"T_f6e52_row0_col1\" class=\"data row0 col1\" >6017</td>\n",
       "      <td id=\"T_f6e52_row0_col2\" class=\"data row0 col2\" >98.64%</td>\n",
       "    </tr>\n",
       "    <tr>\n",
       "      <td id=\"T_f6e52_row1_col0\" class=\"data row1 col0\" >OffersScreenAppear</td>\n",
       "      <td id=\"T_f6e52_row1_col1\" class=\"data row1 col1\" >3739</td>\n",
       "      <td id=\"T_f6e52_row1_col2\" class=\"data row1 col2\" >61.30%</td>\n",
       "    </tr>\n",
       "    <tr>\n",
       "      <td id=\"T_f6e52_row2_col0\" class=\"data row2 col0\" >CartScreenAppear</td>\n",
       "      <td id=\"T_f6e52_row2_col1\" class=\"data row2 col1\" >3014</td>\n",
       "      <td id=\"T_f6e52_row2_col2\" class=\"data row2 col2\" >49.41%</td>\n",
       "    </tr>\n",
       "    <tr>\n",
       "      <td id=\"T_f6e52_row3_col0\" class=\"data row3 col0\" >PaymentScreenSuccessful</td>\n",
       "      <td id=\"T_f6e52_row3_col1\" class=\"data row3 col1\" >2852</td>\n",
       "      <td id=\"T_f6e52_row3_col2\" class=\"data row3 col2\" >46.75%</td>\n",
       "    </tr>\n",
       "    <tr>\n",
       "      <td id=\"T_f6e52_row4_col0\" class=\"data row4 col0\" >Tutorial</td>\n",
       "      <td id=\"T_f6e52_row4_col1\" class=\"data row4 col1\" >829</td>\n",
       "      <td id=\"T_f6e52_row4_col2\" class=\"data row4 col2\" >13.59%</td>\n",
       "    </tr>\n",
       "  </tbody>\n",
       "</table>\n"
      ],
      "text/plain": [
       "<pandas.io.formats.style.Styler at 0x12317a730>"
      ]
     },
     "execution_count": 17,
     "metadata": {},
     "output_type": "execute_result"
    }
   ],
   "source": [
    "ev_us_freq = logs.groupby('event', as_index=False).agg({'user_id':'nunique'})\\\n",
    "                 .rename(columns={'user_id': 'num_users'})\\\n",
    "                 .sort_values(['num_users'], ascending=False)\n",
    "\n",
    "ev_us_freq['user_prop'] = ev_us_freq['num_users']/logs['user_id'].nunique()\n",
    "ev_us_freq.style.hide(axis='index').format(precision=2, formatter={'user_prop': \"{:.2%}\",})"
   ]
  },
  {
   "cell_type": "markdown",
   "id": "7767711f",
   "metadata": {},
   "source": [
    "**Conclusion**  \n",
    "Counting unique users, we could see that almost all of them saw the `MainScreenAppear`, and 13.5% saw the `Tutorial`.\n",
    "\n",
    "---"
   ]
  },
  {
   "cell_type": "markdown",
   "id": "68f17586",
   "metadata": {},
   "source": [
    "#### In what order do you think the actions took place. Are all of them part of a single sequence? You don't need to take them into account when calculating the funnel."
   ]
  },
  {
   "cell_type": "code",
   "execution_count": 18,
   "id": "5d3371b3",
   "metadata": {},
   "outputs": [],
   "source": [
    "logs = logs[logs['event'] != 'Tutorial']\n",
    "logs['event'] = logs['event'].cat.remove_categories(['Tutorial'])"
   ]
  },
  {
   "cell_type": "markdown",
   "id": "2ac05b8a",
   "metadata": {},
   "source": [
    "**Conclusion**  \n",
    "The `Tutorial` event doesn't look like a necessary part of a buying sequence. Therefore we could exclude it from the event fennel.\n",
    "\n",
    "---"
   ]
  },
  {
   "cell_type": "markdown",
   "id": "8f3e40ab",
   "metadata": {},
   "source": [
    "#### Use the event funnel to find the share of users that proceed from each stage to the next. (For instance, for the sequence of events A → B → C, calculate the ratio of users at stage B to the number of users at stage A and the ratio of users at stage C to the number at stage B.)"
   ]
  },
  {
   "cell_type": "markdown",
   "id": "7ca27f9c",
   "metadata": {},
   "source": [
    "#### At what stage do you lose the most users?"
   ]
  },
  {
   "cell_type": "code",
   "execution_count": 19,
   "id": "353e1b97",
   "metadata": {},
   "outputs": [
    {
     "data": {
      "text/html": [
       "<style type=\"text/css\">\n",
       "</style>\n",
       "<table id=\"T_215e2\">\n",
       "  <thead>\n",
       "    <tr>\n",
       "      <th id=\"T_215e2_level0_col0\" class=\"col_heading level0 col0\" >event</th>\n",
       "      <th id=\"T_215e2_level0_col1\" class=\"col_heading level0 col1\" >user_id</th>\n",
       "      <th id=\"T_215e2_level0_col2\" class=\"col_heading level0 col2\" >change</th>\n",
       "    </tr>\n",
       "  </thead>\n",
       "  <tbody>\n",
       "    <tr>\n",
       "      <td id=\"T_215e2_row0_col0\" class=\"data row0 col0\" >MainScreenAppear</td>\n",
       "      <td id=\"T_215e2_row0_col1\" class=\"data row0 col1\" >6017</td>\n",
       "      <td id=\"T_215e2_row0_col2\" class=\"data row0 col2\" >nan%</td>\n",
       "    </tr>\n",
       "    <tr>\n",
       "      <td id=\"T_215e2_row1_col0\" class=\"data row1 col0\" >OffersScreenAppear</td>\n",
       "      <td id=\"T_215e2_row1_col1\" class=\"data row1 col1\" >3739</td>\n",
       "      <td id=\"T_215e2_row1_col2\" class=\"data row1 col2\" >-37.86%</td>\n",
       "    </tr>\n",
       "    <tr>\n",
       "      <td id=\"T_215e2_row2_col0\" class=\"data row2 col0\" >CartScreenAppear</td>\n",
       "      <td id=\"T_215e2_row2_col1\" class=\"data row2 col1\" >3014</td>\n",
       "      <td id=\"T_215e2_row2_col2\" class=\"data row2 col2\" >-19.39%</td>\n",
       "    </tr>\n",
       "    <tr>\n",
       "      <td id=\"T_215e2_row3_col0\" class=\"data row3 col0\" >PaymentScreenSuccessful</td>\n",
       "      <td id=\"T_215e2_row3_col1\" class=\"data row3 col1\" >2852</td>\n",
       "      <td id=\"T_215e2_row3_col2\" class=\"data row3 col2\" >-5.37%</td>\n",
       "    </tr>\n",
       "  </tbody>\n",
       "</table>\n"
      ],
      "text/plain": [
       "<pandas.io.formats.style.Styler at 0x123168fd0>"
      ]
     },
     "execution_count": 19,
     "metadata": {},
     "output_type": "execute_result"
    }
   ],
   "source": [
    "funnel = logs.groupby(['event'])['user_id'].nunique().sort_values(ascending=False).reset_index()\n",
    "funnel['change']=funnel['user_id'].pct_change()\n",
    "funnel.style.hide(axis='index').format(precision=2, formatter={'change': \"{:.2%}\",})"
   ]
  },
  {
   "cell_type": "markdown",
   "id": "0f9ce14e",
   "metadata": {},
   "source": [
    "**Conclusion**  \n",
    "We lost the most share of users (38%) between the `MainScreenAppear` and `OffersScreenAppear`.\n",
    "\n",
    "---"
   ]
  },
  {
   "cell_type": "markdown",
   "id": "5e53fa41",
   "metadata": {},
   "source": [
    "#### What share of users make the entire journey from their first event to payment?"
   ]
  },
  {
   "cell_type": "code",
   "execution_count": 20,
   "id": "e7b49f73",
   "metadata": {},
   "outputs": [
    {
     "name": "stdout",
     "output_type": "stream",
     "text": [
      "47% of users made the journey from MainScreenAppear to PaymentScreenSuccessful.\n"
     ]
    }
   ],
   "source": [
    "print('{0:.0%} of users made the journey from MainScreenAppear to PaymentScreenSuccessful.'\\\n",
    "      .format(logs[logs['event']=='PaymentScreenSuccessful']['user_id'].nunique()\\\n",
    "              /logs[logs['event']=='MainScreenAppear']['user_id'].nunique()))"
   ]
  },
  {
   "cell_type": "markdown",
   "id": "2306b4ff",
   "metadata": {},
   "source": [
    "---"
   ]
  },
  {
   "cell_type": "code",
   "execution_count": 21,
   "id": "f4b9e564",
   "metadata": {},
   "outputs": [],
   "source": [
    "funnel_by_groups = []\n",
    "\n",
    "for i in logs['group'].unique():\n",
    "    group = logs[logs.group==i].groupby(['event','group'], as_index=False, observed=True)['user_id'].nunique()\\\n",
    "                               .sort_values(by='user_id', ascending=False)\n",
    "    funnel_by_groups.append(group)\n",
    "    \n",
    "funnel_by_groups = pd.concat(funnel_by_groups)   "
   ]
  },
  {
   "cell_type": "code",
   "execution_count": 22,
   "id": "4c7e11a1",
   "metadata": {},
   "outputs": [
    {
     "data": {
      "image/svg+xml": [
       "<svg class=\"main-svg\" xmlns=\"http://www.w3.org/2000/svg\" xmlns:xlink=\"http://www.w3.org/1999/xlink\" width=\"900\" height=\"400\" style=\"\" viewBox=\"0 0 900 400\"><rect x=\"0\" y=\"0\" width=\"900\" height=\"400\" style=\"fill: rgb(255, 255, 255); fill-opacity: 1;\"/><defs id=\"defs-0f2c5d\"><g class=\"clips\"><clipPath id=\"clip0f2c5dxyplot\" class=\"plotclip\"><rect width=\"643\" height=\"340\"/></clipPath><clipPath class=\"axesclip\" id=\"clip0f2c5dx\"><rect x=\"183\" y=\"0\" width=\"643\" height=\"400\"/></clipPath><clipPath class=\"axesclip\" id=\"clip0f2c5dy\"><rect x=\"0\" y=\"60\" width=\"900\" height=\"340\"/></clipPath><clipPath class=\"axesclip\" id=\"clip0f2c5dxy\"><rect x=\"183\" y=\"60\" width=\"643\" height=\"340\"/></clipPath></g><g class=\"gradients\"/><g class=\"patterns\"/></defs><g class=\"bglayer\"/><g class=\"layer-below\"><g class=\"imagelayer\"/><g class=\"shapelayer\"/></g><g class=\"cartesianlayer\"><g class=\"subplot xy\"><g class=\"layer-subplot\"><g class=\"shapelayer\"/><g class=\"imagelayer\"/></g><g class=\"minor-gridlayer\"><g class=\"x\"/><g class=\"y\"/></g><g class=\"gridlayer\"><g class=\"x\"/><g class=\"y\"/></g><g class=\"zerolinelayer\"/><path class=\"xlines-below\"/><path class=\"ylines-below\"/><g class=\"overlines-below\"/><g class=\"xaxislayer-below\"/><g class=\"yaxislayer-below\"/><g class=\"overaxes-below\"/><g class=\"plot\" transform=\"translate(183,60)\" clip-path=\"url(#clip0f2c5dxyplot)\"><g class=\"funnellayer mlayer\"><g class=\"trace bars\" style=\"opacity: 1;\"><g class=\"regions\"><g class=\"region\"><path d=\"M32.15,76.5L141.7,93.5H264.03L224.79,76.5Z\" style=\"stroke-width: 0; fill: rgb(141, 211, 199); fill-opacity: 0.5;\"/></g><g class=\"region\"><path d=\"M141.7,161.5L176.56,178.5H275.62L264.03,161.5Z\" style=\"stroke-width: 0; fill: rgb(141, 211, 199); fill-opacity: 0.5;\"/></g><g class=\"region\"><path d=\"M176.56,246.5L184.35,263.5H278.32L275.62,246.5Z\" style=\"stroke-width: 0; fill: rgb(141, 211, 199); fill-opacity: 0.5;\"/></g><g class=\"region\"><path d=\"M0,0Z\" style=\"stroke-width: 0; fill: rgb(141, 211, 199); fill-opacity: 0.5;\"/></g></g><g class=\"points\"><g class=\"point\"><path d=\"M32.15,8.5V76.5H224.79V8.5Z\" style=\"vector-effect: non-scaling-stroke; fill: rgb(141, 211, 199); fill-opacity: 1; stroke: rgb(68, 68, 68); stroke-opacity: 1; stroke-width: 0px; opacity: 1;\"/><text class=\"bartext bartext-inside\" text-anchor=\"middle\" data-notex=\"1\" x=\"0\" y=\"0\" style=\"font-family: 'Open Sans', verdana, arial, sans-serif; font-size: 12px; fill: rgb(68, 68, 68); fill-opacity: 1; white-space: pre;\" transform=\"translate(128.47,39.4453125)\"><tspan class=\"line\" dy=\"0em\" x=\"0\" y=\"0\">2003</tspan><tspan class=\"line\" dy=\"1.3em\" x=\"0\" y=\"0\">100%</tspan></text></g><g class=\"point\"><path d=\"M141.7,93.5V161.5H264.03V93.5Z\" style=\"vector-effect: non-scaling-stroke; fill: rgb(141, 211, 199); fill-opacity: 1; stroke: rgb(68, 68, 68); stroke-opacity: 1; stroke-width: 0px; opacity: 1;\"/><text class=\"bartext bartext-inside\" text-anchor=\"middle\" data-notex=\"1\" x=\"0\" y=\"0\" style=\"font-family: 'Open Sans', verdana, arial, sans-serif; font-size: 12px; fill: rgb(68, 68, 68); fill-opacity: 1; white-space: pre;\" transform=\"translate(202.86499999999998,124.4453125)\"><tspan class=\"line\" dy=\"0em\" x=\"0\" y=\"0\">1272</tspan><tspan class=\"line\" dy=\"1.3em\" x=\"0\" y=\"0\">64%</tspan></text></g><g class=\"point\"><path d=\"M176.56,178.5V246.5H275.62V178.5Z\" style=\"vector-effect: non-scaling-stroke; fill: rgb(141, 211, 199); fill-opacity: 1; stroke: rgb(68, 68, 68); stroke-opacity: 1; stroke-width: 0px; opacity: 1;\"/><text class=\"bartext bartext-inside\" text-anchor=\"middle\" data-notex=\"1\" x=\"0\" y=\"0\" style=\"font-family: 'Open Sans', verdana, arial, sans-serif; font-size: 12px; fill: rgb(68, 68, 68); fill-opacity: 1; white-space: pre;\" transform=\"translate(226.09,209.4453125)\"><tspan class=\"line\" dy=\"0em\" x=\"0\" y=\"0\">1030</tspan><tspan class=\"line\" dy=\"1.3em\" x=\"0\" y=\"0\">51%</tspan></text></g><g class=\"point\"><path d=\"M184.35,263.5V331.5H278.32V263.5Z\" style=\"vector-effect: non-scaling-stroke; fill: rgb(141, 211, 199); fill-opacity: 1; stroke: rgb(68, 68, 68); stroke-opacity: 1; stroke-width: 0px; opacity: 1;\"/><text class=\"bartext bartext-inside\" text-anchor=\"middle\" data-notex=\"1\" x=\"0\" y=\"0\" style=\"font-family: 'Open Sans', verdana, arial, sans-serif; font-size: 12px; fill: rgb(68, 68, 68); fill-opacity: 1; white-space: pre;\" transform=\"translate(231.33499999999998,294.4453125)\"><tspan class=\"line\" dy=\"0em\" x=\"0\" y=\"0\">977</tspan><tspan class=\"line\" dy=\"1.3em\" x=\"0\" y=\"0\">49%</tspan></text></g></g></g><g class=\"trace bars\" style=\"opacity: 1;\"><g class=\"regions\"><g class=\"region\"><path d=\"M224.79,76.5L264.03,93.5H382.91L418.01,76.5Z\" style=\"stroke-width: 0; fill: rgb(255, 255, 179); fill-opacity: 0.5;\"/></g><g class=\"region\"><path d=\"M264.03,161.5L275.62,178.5H371.9L382.91,161.5Z\" style=\"stroke-width: 0; fill: rgb(255, 255, 179); fill-opacity: 0.5;\"/></g><g class=\"region\"><path d=\"M275.62,246.5L278.32,263.5H368.05L371.9,246.5Z\" style=\"stroke-width: 0; fill: rgb(255, 255, 179); fill-opacity: 0.5;\"/></g><g class=\"region\"><path d=\"M0,0Z\" style=\"stroke-width: 0; fill: rgb(255, 255, 179); fill-opacity: 0.5;\"/></g></g><g class=\"points\"><g class=\"point\"><path d=\"M224.79,8.5V76.5H418.01V8.5Z\" style=\"vector-effect: non-scaling-stroke; fill: rgb(255, 255, 179); fill-opacity: 1; stroke: rgb(68, 68, 68); stroke-opacity: 1; stroke-width: 0px; opacity: 1;\"/><text class=\"bartext bartext-inside\" text-anchor=\"middle\" data-notex=\"1\" x=\"0\" y=\"0\" style=\"font-family: 'Open Sans', verdana, arial, sans-serif; font-size: 12px; fill: rgb(68, 68, 68); fill-opacity: 1; white-space: pre;\" transform=\"translate(321.4,39.4453125)\"><tspan class=\"line\" dy=\"0em\" x=\"0\" y=\"0\">2009</tspan><tspan class=\"line\" dy=\"1.3em\" x=\"0\" y=\"0\">100%</tspan></text></g><g class=\"point\"><path d=\"M264.03,93.5V161.5H382.91V93.5Z\" style=\"vector-effect: non-scaling-stroke; fill: rgb(255, 255, 179); fill-opacity: 1; stroke: rgb(68, 68, 68); stroke-opacity: 1; stroke-width: 0px; opacity: 1;\"/><text class=\"bartext bartext-inside\" text-anchor=\"middle\" data-notex=\"1\" x=\"0\" y=\"0\" style=\"font-family: 'Open Sans', verdana, arial, sans-serif; font-size: 12px; fill: rgb(68, 68, 68); fill-opacity: 1; white-space: pre;\" transform=\"translate(323.47,124.4453125)\"><tspan class=\"line\" dy=\"0em\" x=\"0\" y=\"0\">1236</tspan><tspan class=\"line\" dy=\"1.3em\" x=\"0\" y=\"0\">62%</tspan></text></g><g class=\"point\"><path d=\"M275.62,178.5V246.5H371.9V178.5Z\" style=\"vector-effect: non-scaling-stroke; fill: rgb(255, 255, 179); fill-opacity: 1; stroke: rgb(68, 68, 68); stroke-opacity: 1; stroke-width: 0px; opacity: 1;\"/><text class=\"bartext bartext-inside\" text-anchor=\"middle\" data-notex=\"1\" x=\"0\" y=\"0\" style=\"font-family: 'Open Sans', verdana, arial, sans-serif; font-size: 12px; fill: rgb(68, 68, 68); fill-opacity: 1; white-space: pre;\" transform=\"translate(323.76,209.4453125)\"><tspan class=\"line\" dy=\"0em\" x=\"0\" y=\"0\">1001</tspan><tspan class=\"line\" dy=\"1.3em\" x=\"0\" y=\"0\">50%</tspan></text></g><g class=\"point\"><path d=\"M278.32,263.5V331.5H368.05V263.5Z\" style=\"vector-effect: non-scaling-stroke; fill: rgb(255, 255, 179); fill-opacity: 1; stroke: rgb(68, 68, 68); stroke-opacity: 1; stroke-width: 0px; opacity: 1;\"/><text class=\"bartext bartext-inside\" text-anchor=\"middle\" data-notex=\"1\" x=\"0\" y=\"0\" style=\"font-family: 'Open Sans', verdana, arial, sans-serif; font-size: 12px; fill: rgb(68, 68, 68); fill-opacity: 1; white-space: pre;\" transform=\"translate(323.185,294.4453125)\"><tspan class=\"line\" dy=\"0em\" x=\"0\" y=\"0\">933</tspan><tspan class=\"line\" dy=\"1.3em\" x=\"0\" y=\"0\">46%</tspan></text></g></g></g><g class=\"trace bars\" style=\"opacity: 1;\"><g class=\"regions\"><g class=\"region\"><path d=\"M418.01,76.5L382.91,93.5H501.3L610.85,76.5Z\" style=\"stroke-width: 0; fill: rgb(190, 186, 218); fill-opacity: 0.5;\"/></g><g class=\"region\"><path d=\"M382.91,161.5L371.9,178.5H466.44L501.3,161.5Z\" style=\"stroke-width: 0; fill: rgb(190, 186, 218); fill-opacity: 0.5;\"/></g><g class=\"region\"><path d=\"M371.9,246.5L368.05,263.5H458.65L466.44,246.5Z\" style=\"stroke-width: 0; fill: rgb(190, 186, 218); fill-opacity: 0.5;\"/></g><g class=\"region\"><path d=\"M0,0Z\" style=\"stroke-width: 0; fill: rgb(190, 186, 218); fill-opacity: 0.5;\"/></g></g><g class=\"points\"><g class=\"point\"><path d=\"M418.01,8.5V76.5H610.85V8.5Z\" style=\"vector-effect: non-scaling-stroke; fill: rgb(190, 186, 218); fill-opacity: 1; stroke: rgb(68, 68, 68); stroke-opacity: 1; stroke-width: 0px; opacity: 1;\"/><text class=\"bartext bartext-inside\" text-anchor=\"middle\" data-notex=\"1\" x=\"0\" y=\"0\" style=\"font-family: 'Open Sans', verdana, arial, sans-serif; font-size: 12px; fill: rgb(68, 68, 68); fill-opacity: 1; white-space: pre;\" transform=\"translate(514.4300000000001,39.4453125)\"><tspan class=\"line\" dy=\"0em\" x=\"0\" y=\"0\">2005</tspan><tspan class=\"line\" dy=\"1.3em\" x=\"0\" y=\"0\">100%</tspan></text></g><g class=\"point\"><path d=\"M382.91,93.5V161.5H501.3V93.5Z\" style=\"vector-effect: non-scaling-stroke; fill: rgb(190, 186, 218); fill-opacity: 1; stroke: rgb(68, 68, 68); stroke-opacity: 1; stroke-width: 0px; opacity: 1;\"/><text class=\"bartext bartext-inside\" text-anchor=\"middle\" data-notex=\"1\" x=\"0\" y=\"0\" style=\"font-family: 'Open Sans', verdana, arial, sans-serif; font-size: 12px; fill: rgb(68, 68, 68); fill-opacity: 1; white-space: pre;\" transform=\"translate(442.105,124.4453125)\"><tspan class=\"line\" dy=\"0em\" x=\"0\" y=\"0\">1231</tspan><tspan class=\"line\" dy=\"1.3em\" x=\"0\" y=\"0\">61%</tspan></text></g><g class=\"point\"><path d=\"M371.9,178.5V246.5H466.44V178.5Z\" style=\"vector-effect: non-scaling-stroke; fill: rgb(190, 186, 218); fill-opacity: 1; stroke: rgb(68, 68, 68); stroke-opacity: 1; stroke-width: 0px; opacity: 1;\"/><text class=\"bartext bartext-inside\" text-anchor=\"middle\" data-notex=\"1\" x=\"0\" y=\"0\" style=\"font-family: 'Open Sans', verdana, arial, sans-serif; font-size: 12px; fill: rgb(68, 68, 68); fill-opacity: 1; white-space: pre;\" transform=\"translate(419.16999999999996,209.4453125)\"><tspan class=\"line\" dy=\"0em\" x=\"0\" y=\"0\">983</tspan><tspan class=\"line\" dy=\"1.3em\" x=\"0\" y=\"0\">49%</tspan></text></g><g class=\"point\"><path d=\"M368.05,263.5V331.5H458.65V263.5Z\" style=\"vector-effect: non-scaling-stroke; fill: rgb(190, 186, 218); fill-opacity: 1; stroke: rgb(68, 68, 68); stroke-opacity: 1; stroke-width: 0px; opacity: 1;\"/><text class=\"bartext bartext-inside\" text-anchor=\"middle\" data-notex=\"1\" x=\"0\" y=\"0\" style=\"font-family: 'Open Sans', verdana, arial, sans-serif; font-size: 12px; fill: rgb(68, 68, 68); fill-opacity: 1; white-space: pre;\" transform=\"translate(413.35,294.4453125)\"><tspan class=\"line\" dy=\"0em\" x=\"0\" y=\"0\">942</tspan><tspan class=\"line\" dy=\"1.3em\" x=\"0\" y=\"0\">47%</tspan></text></g></g></g></g></g><g class=\"overplot\"/><path class=\"xlines-above crisp\" d=\"M0,0\" style=\"fill: none;\"/><path class=\"ylines-above crisp\" d=\"M0,0\" style=\"fill: none;\"/><g class=\"overlines-above\"/><g class=\"xaxislayer-above\"/><g class=\"yaxislayer-above\"><g class=\"ytick\"><text text-anchor=\"end\" x=\"182\" y=\"4.199999999999999\" transform=\"translate(0,357.5)\" style=\"font-family: 'Open Sans', verdana, arial, sans-serif; font-size: 12px; fill: rgb(42, 63, 95); fill-opacity: 1; white-space: pre; opacity: 1;\">PaymentScreenSuccessful</text></g><g class=\"ytick\"><text text-anchor=\"end\" x=\"182\" y=\"4.199999999999999\" transform=\"translate(0,272.5)\" style=\"font-family: 'Open Sans', verdana, arial, sans-serif; font-size: 12px; fill: rgb(42, 63, 95); fill-opacity: 1; white-space: pre; opacity: 1;\">CartScreenAppear</text></g><g class=\"ytick\"><text text-anchor=\"end\" x=\"182\" y=\"4.199999999999999\" transform=\"translate(0,187.5)\" style=\"font-family: 'Open Sans', verdana, arial, sans-serif; font-size: 12px; fill: rgb(42, 63, 95); fill-opacity: 1; white-space: pre; opacity: 1;\">OffersScreenAppear</text></g><g class=\"ytick\"><text text-anchor=\"end\" x=\"182\" y=\"4.199999999999999\" transform=\"translate(0,102.5)\" style=\"font-family: 'Open Sans', verdana, arial, sans-serif; font-size: 12px; fill: rgb(42, 63, 95); fill-opacity: 1; white-space: pre; opacity: 1;\">MainScreenAppear</text></g></g><g class=\"overaxes-above\"/></g></g><g class=\"polarlayer\"/><g class=\"smithlayer\"/><g class=\"ternarylayer\"/><g class=\"geolayer\"/><g class=\"funnelarealayer\"/><g class=\"pielayer\"/><g class=\"iciclelayer\"/><g class=\"treemaplayer\"/><g class=\"sunburstlayer\"/><g class=\"glimages\"/><defs id=\"topdefs-0f2c5d\"><g class=\"clips\"/><clipPath id=\"legend0f2c5d\"><rect width=\"61\" height=\"86\" x=\"0\" y=\"0\"/></clipPath></defs><g class=\"layer-above\"><g class=\"imagelayer\"/><g class=\"shapelayer\"/></g><g class=\"infolayer\"><g class=\"legend\" pointer-events=\"all\" transform=\"translate(838.86,60)\"><rect class=\"bg\" shape-rendering=\"crispEdges\" style=\"stroke: rgb(68, 68, 68); stroke-opacity: 1; fill: rgb(255, 255, 255); fill-opacity: 1; stroke-width: 0px;\" width=\"61\" height=\"86\" x=\"0\" y=\"0\"/><g class=\"scrollbox\" transform=\"\" clip-path=\"url(#legend0f2c5d)\"><text class=\"legendtitletext\" text-anchor=\"start\" x=\"2\" y=\"18.2\" style=\"font-family: 'Open Sans', verdana, arial, sans-serif; font-size: 14px; fill: rgb(42, 63, 95); fill-opacity: 1; white-space: pre;\">group</text><g class=\"groups\" transform=\"\"><g class=\"traces\" transform=\"translate(0,32.7)\" style=\"opacity: 1;\"><text class=\"legendtext\" text-anchor=\"start\" x=\"40\" y=\"4.680000000000001\" style=\"font-family: 'Open Sans', verdana, arial, sans-serif; font-size: 12px; fill: rgb(42, 63, 95); fill-opacity: 1; white-space: pre;\">A1</text><g class=\"layers\" style=\"opacity: 1;\"><g class=\"legendfill\"/><g class=\"legendlines\"/><g class=\"legendsymbols\"><g class=\"legendpoints\"><path class=\"legendfunnel\" d=\"M6,6H-6V-6H6Z\" transform=\"translate(20,0)\" style=\"stroke-width: 0px; fill: rgb(141, 211, 199); fill-opacity: 1;\"/></g></g></g><rect class=\"legendtoggle\" x=\"0\" y=\"-9.5\" width=\"55.84375\" height=\"19\" style=\"fill: rgb(0, 0, 0); fill-opacity: 0;\"/></g></g><g class=\"groups\" transform=\"\"><g class=\"traces\" transform=\"translate(0,51.7)\" style=\"opacity: 1;\"><text class=\"legendtext\" text-anchor=\"start\" x=\"40\" y=\"4.680000000000001\" style=\"font-family: 'Open Sans', verdana, arial, sans-serif; font-size: 12px; fill: rgb(42, 63, 95); fill-opacity: 1; white-space: pre;\">A2</text><g class=\"layers\" style=\"opacity: 1;\"><g class=\"legendfill\"/><g class=\"legendlines\"/><g class=\"legendsymbols\"><g class=\"legendpoints\"><path class=\"legendfunnel\" d=\"M6,6H-6V-6H6Z\" transform=\"translate(20,0)\" style=\"stroke-width: 0px; fill: rgb(255, 255, 179); fill-opacity: 1;\"/></g></g></g><rect class=\"legendtoggle\" x=\"0\" y=\"-9.5\" width=\"55.84375\" height=\"19\" style=\"fill: rgb(0, 0, 0); fill-opacity: 0;\"/></g></g><g class=\"groups\" transform=\"\"><g class=\"traces\" transform=\"translate(0,70.7)\" style=\"opacity: 1;\"><text class=\"legendtext\" text-anchor=\"start\" x=\"40\" y=\"4.680000000000001\" style=\"font-family: 'Open Sans', verdana, arial, sans-serif; font-size: 12px; fill: rgb(42, 63, 95); fill-opacity: 1; white-space: pre;\">B</text><g class=\"layers\" style=\"opacity: 1;\"><g class=\"legendfill\"/><g class=\"legendlines\"/><g class=\"legendsymbols\"><g class=\"legendpoints\"><path class=\"legendfunnel\" d=\"M6,6H-6V-6H6Z\" transform=\"translate(20,0)\" style=\"stroke-width: 0px; fill: rgb(190, 186, 218); fill-opacity: 1;\"/></g></g></g><rect class=\"legendtoggle\" x=\"0\" y=\"-9.5\" width=\"55.84375\" height=\"19\" style=\"fill: rgb(0, 0, 0); fill-opacity: 0;\"/></g></g></g><rect class=\"scrollbar\" rx=\"20\" ry=\"3\" width=\"0\" height=\"0\" style=\"fill: rgb(128, 139, 164); fill-opacity: 1;\" x=\"0\" y=\"0\"/></g><g class=\"g-gtitle\"><text class=\"gtitle\" x=\"45\" y=\"30\" text-anchor=\"start\" dy=\"0em\" style=\"font-family: 'Open Sans', verdana, arial, sans-serif; font-size: 17px; fill: rgb(42, 63, 95); opacity: 1; font-weight: normal; white-space: pre;\">Funnel by groups</text></g><g class=\"g-ytitle\" transform=\"translate(14.0185546875,0)\"><text class=\"ytitle\" transform=\"rotate(-90,-0.01875000000001137,230)\" x=\"-0.01875000000001137\" y=\"230\" text-anchor=\"middle\" style=\"font-family: 'Open Sans', verdana, arial, sans-serif; font-size: 14px; fill: rgb(42, 63, 95); opacity: 1; font-weight: normal; white-space: pre;\">Event</text></g></g></svg>"
      ]
     },
     "metadata": {},
     "output_type": "display_data"
    }
   ],
   "source": [
    "fig = px.funnel(funnel_by_groups, x='user_id', y='event', color='group',\n",
    "                color_discrete_sequence=px.colors.qualitative.Set3)\\\n",
    "        .update_traces(hovertemplate=None, textinfo='value+percent initial')\\\n",
    "        .update_layout(margin=dict(l=10, r=10, b=0), template='plotly_white', \n",
    "                       yaxis_title_text='Event', \n",
    "                       title='Funnel by groups',\n",
    "                       width=900, height=400, \n",
    "                      )\n",
    "fig.show('svg')"
   ]
  },
  {
   "cell_type": "markdown",
   "id": "f37bca1c",
   "metadata": {},
   "source": [
    "**Conclusion**  \n",
    "The share of the users who came through the event funnel looks not significantly different between all three groups. Let's confirm or disprove this using statistical tests.\n",
    "\n",
    "---"
   ]
  },
  {
   "cell_type": "markdown",
   "id": "5c708bc6",
   "metadata": {},
   "source": [
    "### Study the results of the experiment\n",
    "#### How many users are there in each group?"
   ]
  },
  {
   "cell_type": "code",
   "execution_count": 23,
   "id": "222bb778",
   "metadata": {},
   "outputs": [
    {
     "data": {
      "text/plain": [
       "group\n",
       "A1    2029\n",
       "A2    2035\n",
       "B     2032\n",
       "Name: user_id, dtype: int64"
      ]
     },
     "execution_count": 23,
     "metadata": {},
     "output_type": "execute_result"
    }
   ],
   "source": [
    "logs.groupby(['group'])['user_id'].nunique()"
   ]
  },
  {
   "cell_type": "markdown",
   "id": "a2fdd8b7",
   "metadata": {},
   "source": [
    "---"
   ]
  },
  {
   "cell_type": "markdown",
   "id": "175250d1",
   "metadata": {},
   "source": [
    "#### We have two control groups in the A/A test, where we check our mechanisms and calculations. See if there is a statistically significant difference between samples 246 and 247."
   ]
  },
  {
   "cell_type": "code",
   "execution_count": 24,
   "id": "f46de5b0",
   "metadata": {},
   "outputs": [],
   "source": [
    "def testing_proportion(logs, pivot, trials1, trials2, event, group1, group2, alpha=0.05):\n",
    "    successes1 = pivot[pivot['event']==event][group1].iloc[0]\n",
    "    successes2 = pivot[pivot['event']==event][group2].iloc[0]\n",
    "        \n",
    "    print(f'Trials Group {group1}: {trials1}')\n",
    "    print(f'Successes Group {group1}: {successes1}')\n",
    "    print(f'Proportion Group {group1}: {successes1/trials1:0.3f}')\n",
    "    print()    \n",
    "\n",
    "    print(f'Trials Group {group2}: {trials2}')\n",
    "    print(f'Successes Group {group2}: {successes2}')\n",
    "    print(f'Proportion Group {group2}: {successes2/trials2:0.3f}')\n",
    "    print()    \n",
    "\n",
    "    \n",
    "    statist, p_value = proportions_ztest([successes1, successes2], [trials1, trials2])\n",
    "    print(f'P-value: {p_value:0.3f}')\n",
    "    if p_value < alpha:\n",
    "        print(f'Reject H0 for {event} in groups {group1} and {group2}')\n",
    "    else:\n",
    "        print(f'Failed to reject H0 for {event} in groups {group1} and {group2}')\n",
    "               \n",
    "\n",
    "alpha = 0.05"
   ]
  },
  {
   "cell_type": "markdown",
   "id": "e4a67e11",
   "metadata": {},
   "source": [
    "95% statistical significance level (alpha 0.05) would be enough for our tests."
   ]
  },
  {
   "cell_type": "code",
   "execution_count": 25,
   "id": "25803f17",
   "metadata": {},
   "outputs": [
    {
     "data": {
      "text/html": [
       "<style type=\"text/css\">\n",
       "</style>\n",
       "<table id=\"T_ebd56\">\n",
       "  <thead>\n",
       "    <tr>\n",
       "      <th id=\"T_ebd56_level0_col0\" class=\"col_heading level0 col0\" >event</th>\n",
       "      <th id=\"T_ebd56_level0_col1\" class=\"col_heading level0 col1\" >A1</th>\n",
       "      <th id=\"T_ebd56_level0_col2\" class=\"col_heading level0 col2\" >A2</th>\n",
       "      <th id=\"T_ebd56_level0_col3\" class=\"col_heading level0 col3\" >B</th>\n",
       "      <th id=\"T_ebd56_level0_col4\" class=\"col_heading level0 col4\" >A1+A2</th>\n",
       "    </tr>\n",
       "  </thead>\n",
       "  <tbody>\n",
       "    <tr>\n",
       "      <td id=\"T_ebd56_row0_col0\" class=\"data row0 col0\" >MainScreenAppear</td>\n",
       "      <td id=\"T_ebd56_row0_col1\" class=\"data row0 col1\" >2003</td>\n",
       "      <td id=\"T_ebd56_row0_col2\" class=\"data row0 col2\" >2009</td>\n",
       "      <td id=\"T_ebd56_row0_col3\" class=\"data row0 col3\" >2005</td>\n",
       "      <td id=\"T_ebd56_row0_col4\" class=\"data row0 col4\" >4012</td>\n",
       "    </tr>\n",
       "    <tr>\n",
       "      <td id=\"T_ebd56_row1_col0\" class=\"data row1 col0\" >OffersScreenAppear</td>\n",
       "      <td id=\"T_ebd56_row1_col1\" class=\"data row1 col1\" >1272</td>\n",
       "      <td id=\"T_ebd56_row1_col2\" class=\"data row1 col2\" >1236</td>\n",
       "      <td id=\"T_ebd56_row1_col3\" class=\"data row1 col3\" >1231</td>\n",
       "      <td id=\"T_ebd56_row1_col4\" class=\"data row1 col4\" >2508</td>\n",
       "    </tr>\n",
       "    <tr>\n",
       "      <td id=\"T_ebd56_row2_col0\" class=\"data row2 col0\" >CartScreenAppear</td>\n",
       "      <td id=\"T_ebd56_row2_col1\" class=\"data row2 col1\" >1030</td>\n",
       "      <td id=\"T_ebd56_row2_col2\" class=\"data row2 col2\" >1001</td>\n",
       "      <td id=\"T_ebd56_row2_col3\" class=\"data row2 col3\" >983</td>\n",
       "      <td id=\"T_ebd56_row2_col4\" class=\"data row2 col4\" >2031</td>\n",
       "    </tr>\n",
       "    <tr>\n",
       "      <td id=\"T_ebd56_row3_col0\" class=\"data row3 col0\" >PaymentScreenSuccessful</td>\n",
       "      <td id=\"T_ebd56_row3_col1\" class=\"data row3 col1\" >977</td>\n",
       "      <td id=\"T_ebd56_row3_col2\" class=\"data row3 col2\" >933</td>\n",
       "      <td id=\"T_ebd56_row3_col3\" class=\"data row3 col3\" >942</td>\n",
       "      <td id=\"T_ebd56_row3_col4\" class=\"data row3 col4\" >1910</td>\n",
       "    </tr>\n",
       "  </tbody>\n",
       "</table>\n"
      ],
      "text/plain": [
       "<pandas.io.formats.style.Styler at 0x123a49d00>"
      ]
     },
     "execution_count": 25,
     "metadata": {},
     "output_type": "execute_result"
    }
   ],
   "source": [
    "pivot = logs.pivot_table(index='event', columns='group', values='user_id', aggfunc='nunique')\\\n",
    "            .reset_index().sort_values('A1', ascending=False)\n",
    "\n",
    "pivot['A1+A2'] = pivot['A1'] + pivot['A2']\n",
    "pivot.style.hide(axis='index')"
   ]
  },
  {
   "cell_type": "markdown",
   "id": "02a1d3b4",
   "metadata": {},
   "source": [
    "#### Select the most popular event. In each of the control groups, find the number of users who performed this action. Find their share. Check whether the difference between the groups is statistically significant. Repeat the procedure for all other events (it will save time if you create a special function for this test). Can you confirm that the groups were split properly?\n",
    "\n",
    "*Null hypothesis:* There are no statistically significant differences in proportions between the groups for each event.  \n",
    "*Alternative hypothesis:* There is a statistically significant difference in proportions between the groups for each event. "
   ]
  },
  {
   "cell_type": "code",
   "execution_count": 26,
   "id": "c0750b04",
   "metadata": {},
   "outputs": [
    {
     "data": {
      "text/html": [
       "<b>Testing groups A1 and A2 for event MainScreenAppear</b>"
      ]
     },
     "metadata": {},
     "output_type": "display_data"
    },
    {
     "name": "stdout",
     "output_type": "stream",
     "text": [
      "Trials Group A1: 2029\n",
      "Successes Group A1: 2003\n",
      "Proportion Group A1: 0.987\n",
      "\n",
      "Trials Group A2: 2035\n",
      "Successes Group A2: 2009\n",
      "Proportion Group A2: 0.987\n",
      "\n",
      "P-value: 0.991\n",
      "Failed to reject H0 for MainScreenAppear in groups A1 and A2\n",
      "\n"
     ]
    },
    {
     "data": {
      "text/html": [
       "<b>Testing groups A1 and A2 for event OffersScreenAppear</b>"
      ]
     },
     "metadata": {},
     "output_type": "display_data"
    },
    {
     "name": "stdout",
     "output_type": "stream",
     "text": [
      "Trials Group A1: 2029\n",
      "Successes Group A1: 1272\n",
      "Proportion Group A1: 0.627\n",
      "\n",
      "Trials Group A2: 2035\n",
      "Successes Group A2: 1236\n",
      "Proportion Group A2: 0.607\n",
      "\n",
      "P-value: 0.200\n",
      "Failed to reject H0 for OffersScreenAppear in groups A1 and A2\n",
      "\n"
     ]
    },
    {
     "data": {
      "text/html": [
       "<b>Testing groups A1 and A2 for event CartScreenAppear</b>"
      ]
     },
     "metadata": {},
     "output_type": "display_data"
    },
    {
     "name": "stdout",
     "output_type": "stream",
     "text": [
      "Trials Group A1: 2029\n",
      "Successes Group A1: 1030\n",
      "Proportion Group A1: 0.508\n",
      "\n",
      "Trials Group A2: 2035\n",
      "Successes Group A2: 1001\n",
      "Proportion Group A2: 0.492\n",
      "\n",
      "P-value: 0.315\n",
      "Failed to reject H0 for CartScreenAppear in groups A1 and A2\n",
      "\n"
     ]
    },
    {
     "data": {
      "text/html": [
       "<b>Testing groups A1 and A2 for event PaymentScreenSuccessful</b>"
      ]
     },
     "metadata": {},
     "output_type": "display_data"
    },
    {
     "name": "stdout",
     "output_type": "stream",
     "text": [
      "Trials Group A1: 2029\n",
      "Successes Group A1: 977\n",
      "Proportion Group A1: 0.482\n",
      "\n",
      "Trials Group A2: 2035\n",
      "Successes Group A2: 933\n",
      "Proportion Group A2: 0.458\n",
      "\n",
      "P-value: 0.141\n",
      "Failed to reject H0 for PaymentScreenSuccessful in groups A1 and A2\n",
      "\n"
     ]
    }
   ],
   "source": [
    "trials1 = logs[logs['group']=='A1']['user_id'].nunique()\n",
    "trials2 = logs[logs['group']=='A2']['user_id'].nunique()\n",
    "\n",
    "\n",
    "for event in pivot['event'].unique():\n",
    "    display_html(f'<b>Testing groups A1 and A2 for event {event}</b>', raw = True)    \n",
    "    testing_proportion(logs, pivot, trials1, trials2, event, 'A1', 'A2', alpha=alpha)\n",
    "    print()"
   ]
  },
  {
   "cell_type": "markdown",
   "id": "1c8222b1",
   "metadata": {},
   "source": [
    "**Conclusion**  \n",
    "Comparing two control groups, we failed to reject the null hypothesis that there are no statistically significant differences in proportions for each event. \n",
    "\n",
    "---"
   ]
  },
  {
   "cell_type": "markdown",
   "id": "98f29f69",
   "metadata": {},
   "source": [
    "#### Do the same thing for the group with altered fonts. Compare the results with those of each of the control groups for each event in isolation. Compare the results with the combined results for the control groups. What conclusions can you draw from the experiment?\n",
    "\n",
    "*Null hypothesis:* There are no statistically significant differences in proportions between the groups for each event.  \n",
    "*Alternative hypothesis:* There is a statistically significant difference in proportions between the groups for each event. "
   ]
  },
  {
   "cell_type": "code",
   "execution_count": 27,
   "id": "6bd86eae",
   "metadata": {},
   "outputs": [
    {
     "data": {
      "text/html": [
       "<b>Testing groups A1 and B for event MainScreenAppear</b>"
      ]
     },
     "metadata": {},
     "output_type": "display_data"
    },
    {
     "name": "stdout",
     "output_type": "stream",
     "text": [
      "Trials Group A1: 2029\n",
      "Successes Group A1: 2003\n",
      "Proportion Group A1: 0.987\n",
      "\n",
      "Trials Group B: 2032\n",
      "Successes Group B: 2005\n",
      "Proportion Group B: 0.987\n",
      "\n",
      "P-value: 0.894\n",
      "Failed to reject H0 for MainScreenAppear in groups A1 and B\n",
      "\n"
     ]
    },
    {
     "data": {
      "text/html": [
       "<b>Testing groups A1 and B for event OffersScreenAppear</b>"
      ]
     },
     "metadata": {},
     "output_type": "display_data"
    },
    {
     "name": "stdout",
     "output_type": "stream",
     "text": [
      "Trials Group A1: 2029\n",
      "Successes Group A1: 1272\n",
      "Proportion Group A1: 0.627\n",
      "\n",
      "Trials Group B: 2032\n",
      "Successes Group B: 1231\n",
      "Proportion Group B: 0.606\n",
      "\n",
      "P-value: 0.167\n",
      "Failed to reject H0 for OffersScreenAppear in groups A1 and B\n",
      "\n"
     ]
    },
    {
     "data": {
      "text/html": [
       "<b>Testing groups A1 and B for event CartScreenAppear</b>"
      ]
     },
     "metadata": {},
     "output_type": "display_data"
    },
    {
     "name": "stdout",
     "output_type": "stream",
     "text": [
      "Trials Group A1: 2029\n",
      "Successes Group A1: 1030\n",
      "Proportion Group A1: 0.508\n",
      "\n",
      "Trials Group B: 2032\n",
      "Successes Group B: 983\n",
      "Proportion Group B: 0.484\n",
      "\n",
      "P-value: 0.128\n",
      "Failed to reject H0 for CartScreenAppear in groups A1 and B\n",
      "\n"
     ]
    },
    {
     "data": {
      "text/html": [
       "<b>Testing groups A1 and B for event PaymentScreenSuccessful</b>"
      ]
     },
     "metadata": {},
     "output_type": "display_data"
    },
    {
     "name": "stdout",
     "output_type": "stream",
     "text": [
      "Trials Group A1: 2029\n",
      "Successes Group A1: 977\n",
      "Proportion Group A1: 0.482\n",
      "\n",
      "Trials Group B: 2032\n",
      "Successes Group B: 942\n",
      "Proportion Group B: 0.464\n",
      "\n",
      "P-value: 0.252\n",
      "Failed to reject H0 for PaymentScreenSuccessful in groups A1 and B\n",
      "\n"
     ]
    }
   ],
   "source": [
    "trials1 = logs[logs['group']=='A1']['user_id'].nunique()\n",
    "trials2 = logs[logs['group']=='B']['user_id'].nunique()\n",
    "\n",
    "for event in pivot['event'].unique():\n",
    "    display_html(f'<b>Testing groups A1 and B for event {event}</b>', raw = True)    \n",
    "    testing_proportion(logs, pivot, trials1, trials2, event, 'A1', 'B', alpha=alpha)\n",
    "    print()    "
   ]
  },
  {
   "cell_type": "code",
   "execution_count": 28,
   "id": "99dce800",
   "metadata": {},
   "outputs": [
    {
     "data": {
      "text/html": [
       "<b>Testing groups A2 and B for event MainScreenAppear</b>"
      ]
     },
     "metadata": {},
     "output_type": "display_data"
    },
    {
     "name": "stdout",
     "output_type": "stream",
     "text": [
      "Trials Group A2: 2035\n",
      "Successes Group A2: 2009\n",
      "Proportion Group A2: 0.987\n",
      "\n",
      "Trials Group B: 2032\n",
      "Successes Group B: 2005\n",
      "Proportion Group B: 0.987\n",
      "\n",
      "P-value: 0.886\n",
      "Failed to reject H0 for MainScreenAppear in groups A2 and B\n",
      "\n"
     ]
    },
    {
     "data": {
      "text/html": [
       "<b>Testing groups A2 and B for event OffersScreenAppear</b>"
      ]
     },
     "metadata": {},
     "output_type": "display_data"
    },
    {
     "name": "stdout",
     "output_type": "stream",
     "text": [
      "Trials Group A2: 2035\n",
      "Successes Group A2: 1236\n",
      "Proportion Group A2: 0.607\n",
      "\n",
      "Trials Group B: 2032\n",
      "Successes Group B: 1231\n",
      "Proportion Group B: 0.606\n",
      "\n",
      "P-value: 0.919\n",
      "Failed to reject H0 for OffersScreenAppear in groups A2 and B\n",
      "\n"
     ]
    },
    {
     "data": {
      "text/html": [
       "<b>Testing groups A2 and B for event CartScreenAppear</b>"
      ]
     },
     "metadata": {},
     "output_type": "display_data"
    },
    {
     "name": "stdout",
     "output_type": "stream",
     "text": [
      "Trials Group A2: 2035\n",
      "Successes Group A2: 1001\n",
      "Proportion Group A2: 0.492\n",
      "\n",
      "Trials Group B: 2032\n",
      "Successes Group B: 983\n",
      "Proportion Group B: 0.484\n",
      "\n",
      "P-value: 0.604\n",
      "Failed to reject H0 for CartScreenAppear in groups A2 and B\n",
      "\n"
     ]
    },
    {
     "data": {
      "text/html": [
       "<b>Testing groups A2 and B for event PaymentScreenSuccessful</b>"
      ]
     },
     "metadata": {},
     "output_type": "display_data"
    },
    {
     "name": "stdout",
     "output_type": "stream",
     "text": [
      "Trials Group A2: 2035\n",
      "Successes Group A2: 933\n",
      "Proportion Group A2: 0.458\n",
      "\n",
      "Trials Group B: 2032\n",
      "Successes Group B: 942\n",
      "Proportion Group B: 0.464\n",
      "\n",
      "P-value: 0.744\n",
      "Failed to reject H0 for PaymentScreenSuccessful in groups A2 and B\n",
      "\n"
     ]
    }
   ],
   "source": [
    "trials1 = logs[logs['group']=='A2']['user_id'].nunique()\n",
    "trials2 = logs[logs['group']=='B']['user_id'].nunique()\n",
    "\n",
    "for event in pivot['event'].unique():\n",
    "    display_html(f'<b>Testing groups A2 and B for event {event}</b>', raw = True)    \n",
    "    testing_proportion(logs, pivot, trials1, trials2, event, 'A2', 'B', alpha=alpha)\n",
    "    print()    "
   ]
  },
  {
   "cell_type": "code",
   "execution_count": 29,
   "id": "18703868",
   "metadata": {},
   "outputs": [
    {
     "data": {
      "text/html": [
       "<b>Testing groups A1+A2 and B for event MainScreenAppear</b>"
      ]
     },
     "metadata": {},
     "output_type": "display_data"
    },
    {
     "name": "stdout",
     "output_type": "stream",
     "text": [
      "Trials Group A1+A2: 4064\n",
      "Successes Group A1+A2: 4012\n",
      "Proportion Group A1+A2: 0.987\n",
      "\n",
      "Trials Group B: 2032\n",
      "Successes Group B: 2005\n",
      "Proportion Group B: 0.987\n",
      "\n",
      "P-value: 0.873\n",
      "Failed to reject H0 for MainScreenAppear in groups A1+A2 and B\n",
      "\n"
     ]
    },
    {
     "data": {
      "text/html": [
       "<b>Testing groups A1+A2 and B for event OffersScreenAppear</b>"
      ]
     },
     "metadata": {},
     "output_type": "display_data"
    },
    {
     "name": "stdout",
     "output_type": "stream",
     "text": [
      "Trials Group A1+A2: 4064\n",
      "Successes Group A1+A2: 2508\n",
      "Proportion Group A1+A2: 0.617\n",
      "\n",
      "Trials Group B: 2032\n",
      "Successes Group B: 1231\n",
      "Proportion Group B: 0.606\n",
      "\n",
      "P-value: 0.392\n",
      "Failed to reject H0 for OffersScreenAppear in groups A1+A2 and B\n",
      "\n"
     ]
    },
    {
     "data": {
      "text/html": [
       "<b>Testing groups A1+A2 and B for event CartScreenAppear</b>"
      ]
     },
     "metadata": {},
     "output_type": "display_data"
    },
    {
     "name": "stdout",
     "output_type": "stream",
     "text": [
      "Trials Group A1+A2: 4064\n",
      "Successes Group A1+A2: 2031\n",
      "Proportion Group A1+A2: 0.500\n",
      "\n",
      "Trials Group B: 2032\n",
      "Successes Group B: 983\n",
      "Proportion Group B: 0.484\n",
      "\n",
      "P-value: 0.239\n",
      "Failed to reject H0 for CartScreenAppear in groups A1+A2 and B\n",
      "\n"
     ]
    },
    {
     "data": {
      "text/html": [
       "<b>Testing groups A1+A2 and B for event PaymentScreenSuccessful</b>"
      ]
     },
     "metadata": {},
     "output_type": "display_data"
    },
    {
     "name": "stdout",
     "output_type": "stream",
     "text": [
      "Trials Group A1+A2: 4064\n",
      "Successes Group A1+A2: 1910\n",
      "Proportion Group A1+A2: 0.470\n",
      "\n",
      "Trials Group B: 2032\n",
      "Successes Group B: 942\n",
      "Proportion Group B: 0.464\n",
      "\n",
      "P-value: 0.637\n",
      "Failed to reject H0 for PaymentScreenSuccessful in groups A1+A2 and B\n",
      "\n"
     ]
    }
   ],
   "source": [
    "trials1 = logs[(logs['group']=='A1') | (logs['group']=='A2')]['user_id'].nunique()\n",
    "trials2 = logs[logs['group']=='B']['user_id'].nunique()\n",
    "\n",
    "for event in pivot['event'].unique():\n",
    "    display_html(f'<b>Testing groups A1+A2 and B for event {event}</b>', raw = True)    \n",
    "    testing_proportion(logs, pivot, trials1, trials2, event, 'A1+A2', 'B', alpha=alpha)\n",
    "    print()    "
   ]
  },
  {
   "cell_type": "markdown",
   "id": "6030b7dc",
   "metadata": {},
   "source": [
    "**Conclusion**  \n",
    "Comparing the test group with both control groups separately and combined, we failed to reject the null hypothesis that there are no statistically significant differences in proportions for each event. So it looks like there is no distinction between all the groups, and changing the font didn't alter users' behaviour.\n",
    "\n",
    "---"
   ]
  },
  {
   "cell_type": "markdown",
   "id": "442557ed",
   "metadata": {},
   "source": [
    "#### What significance level have you set to test the statistical hypotheses mentioned above? Calculate how many statistical hypothesis tests you carried out. With a statistical significance level of 0.1, one in 10 results could be false. What should the significance level be? If you want to change it, run through the previous steps again and check your conclusions."
   ]
  },
  {
   "cell_type": "code",
   "execution_count": 30,
   "id": "9a4664c7",
   "metadata": {},
   "outputs": [
    {
     "name": "stdout",
     "output_type": "stream",
     "text": [
      "Family-wise error rate for our 16 hypothesis tests is 56%\n"
     ]
    }
   ],
   "source": [
    "fwer = 1 - (1 - alpha) ** 16\n",
    "print(f'Family-wise error rate for our 16 hypothesis tests is {fwer:0.0%}')"
   ]
  },
  {
   "cell_type": "markdown",
   "id": "b0976ea5",
   "metadata": {},
   "source": [
    "**Conclusion**  \n",
    "Running several tests on the same data increases the probability of making a type I error. So if we were most worried about rejecting a true null hypothesis, we should correct the alpha value and rerun the tests. But since we failed to reject any of our hypotheses, there is no need for this.\n",
    "\n",
    "---"
   ]
  },
  {
   "cell_type": "markdown",
   "id": "9271c2d8",
   "metadata": {},
   "source": [
    "## Overall conclusion\n",
    "\n",
    "We have a dataset logged events of a startup that sells food products. After changing data types and dropping duplicates, we checked that we didn't have any users in several groups simultaneously and made the group value human-readable.\n",
    "\n",
    "Investigating the data, we found that our logs start on 2019-07-25, but part of the data before 2019-08-01 looks incomplete. So we excluded about 25% of the events.\n",
    "\n",
    "Also, judging from the data, we concluded that the `Tutorial` didn't belong to the event funnel and excluded it.\n",
    "\n",
    "While 47% of users made the entire journey from `MainScreenAppear` to `PaymentScreenSuccessful`, we lost the most share (38%) between the `MainScreenAppear` and `OffersScreenAppear`.\n",
    "\n",
    "We failed to see any significant difference between the groups plotting the event funnel and running tests on the proportions.\n",
    "Changing the font didn't make any difference; all three groups belong to the same statistical population.\n",
    "\n",
    "Since after the `MainScreenAppear` we lost almost twice as many users as after `OffersScreenAppear`, I suggest looking for possible improvements on the main screen. For example, adding special offers (instead of the dedicated screen) could boost purchases."
   ]
  }
 ],
 "metadata": {
  "ExecuteTimeLog": [
   {
    "duration": 105,
    "start_time": "2022-02-11T10:23:11.765Z"
   },
   {
    "duration": 6,
    "start_time": "2022-02-11T10:23:11.874Z"
   },
   {
    "duration": 21283,
    "start_time": "2022-02-11T10:23:11.883Z"
   },
   {
    "duration": 25,
    "start_time": "2022-02-11T10:23:33.169Z"
   },
   {
    "duration": 257,
    "start_time": "2022-02-11T10:23:33.197Z"
   },
   {
    "duration": 187,
    "start_time": "2022-02-11T10:23:33.456Z"
   },
   {
    "duration": 248,
    "start_time": "2022-02-11T10:23:33.645Z"
   },
   {
    "duration": 5,
    "start_time": "2022-02-11T10:23:33.897Z"
   },
   {
    "duration": 8,
    "start_time": "2022-02-11T10:23:33.905Z"
   },
   {
    "duration": 5,
    "start_time": "2022-02-11T10:23:33.915Z"
   },
   {
    "duration": 77,
    "start_time": "2022-02-11T10:23:33.922Z"
   },
   {
    "duration": 1242,
    "start_time": "2022-02-11T10:23:34.002Z"
   },
   {
    "duration": -702,
    "start_time": "2022-02-11T10:23:35.949Z"
   },
   {
    "duration": -703,
    "start_time": "2022-02-11T10:23:35.951Z"
   },
   {
    "duration": -703,
    "start_time": "2022-02-11T10:23:35.952Z"
   },
   {
    "duration": -695,
    "start_time": "2022-02-11T10:23:35.954Z"
   },
   {
    "duration": -695,
    "start_time": "2022-02-11T10:23:35.956Z"
   },
   {
    "duration": -698,
    "start_time": "2022-02-11T10:23:35.960Z"
   },
   {
    "duration": -705,
    "start_time": "2022-02-11T10:23:35.968Z"
   },
   {
    "duration": -708,
    "start_time": "2022-02-11T10:23:35.973Z"
   },
   {
    "duration": -709,
    "start_time": "2022-02-11T10:23:35.975Z"
   },
   {
    "duration": -710,
    "start_time": "2022-02-11T10:23:35.977Z"
   },
   {
    "duration": -714,
    "start_time": "2022-02-11T10:23:35.982Z"
   },
   {
    "duration": -718,
    "start_time": "2022-02-11T10:23:35.987Z"
   },
   {
    "duration": -723,
    "start_time": "2022-02-11T10:23:35.994Z"
   },
   {
    "duration": -725,
    "start_time": "2022-02-11T10:23:35.997Z"
   },
   {
    "duration": -728,
    "start_time": "2022-02-11T10:23:36.001Z"
   },
   {
    "duration": -730,
    "start_time": "2022-02-11T10:23:36.004Z"
   },
   {
    "duration": -731,
    "start_time": "2022-02-11T10:23:36.007Z"
   },
   {
    "duration": -731,
    "start_time": "2022-02-11T10:23:36.008Z"
   },
   {
    "duration": 113,
    "start_time": "2022-02-11T10:27:17.284Z"
   },
   {
    "duration": 92,
    "start_time": "2022-02-11T10:27:17.399Z"
   },
   {
    "duration": -701,
    "start_time": "2022-02-11T10:27:18.199Z"
   },
   {
    "duration": -706,
    "start_time": "2022-02-11T10:27:18.206Z"
   },
   {
    "duration": -708,
    "start_time": "2022-02-11T10:27:18.209Z"
   },
   {
    "duration": -707,
    "start_time": "2022-02-11T10:27:18.210Z"
   },
   {
    "duration": -708,
    "start_time": "2022-02-11T10:27:18.212Z"
   },
   {
    "duration": -712,
    "start_time": "2022-02-11T10:27:18.217Z"
   },
   {
    "duration": -720,
    "start_time": "2022-02-11T10:27:18.227Z"
   },
   {
    "duration": -732,
    "start_time": "2022-02-11T10:27:18.240Z"
   },
   {
    "duration": -738,
    "start_time": "2022-02-11T10:27:18.247Z"
   },
   {
    "duration": -757,
    "start_time": "2022-02-11T10:27:18.267Z"
   },
   {
    "duration": -766,
    "start_time": "2022-02-11T10:27:18.277Z"
   },
   {
    "duration": -768,
    "start_time": "2022-02-11T10:27:18.280Z"
   },
   {
    "duration": -767,
    "start_time": "2022-02-11T10:27:18.281Z"
   },
   {
    "duration": -768,
    "start_time": "2022-02-11T10:27:18.283Z"
   },
   {
    "duration": -779,
    "start_time": "2022-02-11T10:27:18.295Z"
   },
   {
    "duration": -787,
    "start_time": "2022-02-11T10:27:18.305Z"
   },
   {
    "duration": -788,
    "start_time": "2022-02-11T10:27:18.307Z"
   },
   {
    "duration": -789,
    "start_time": "2022-02-11T10:27:18.309Z"
   },
   {
    "duration": -788,
    "start_time": "2022-02-11T10:27:18.310Z"
   },
   {
    "duration": -789,
    "start_time": "2022-02-11T10:27:18.312Z"
   },
   {
    "duration": -788,
    "start_time": "2022-02-11T10:27:18.313Z"
   },
   {
    "duration": -786,
    "start_time": "2022-02-11T10:27:18.314Z"
   },
   {
    "duration": -787,
    "start_time": "2022-02-11T10:27:18.316Z"
   },
   {
    "duration": -789,
    "start_time": "2022-02-11T10:27:18.320Z"
   },
   {
    "duration": -788,
    "start_time": "2022-02-11T10:27:18.321Z"
   },
   {
    "duration": -764,
    "start_time": "2022-02-11T10:27:18.323Z"
   },
   {
    "duration": -764,
    "start_time": "2022-02-11T10:27:18.324Z"
   },
   {
    "duration": -763,
    "start_time": "2022-02-11T10:27:18.325Z"
   },
   {
    "duration": 171,
    "start_time": "2022-02-11T10:29:01.369Z"
   },
   {
    "duration": 72870,
    "start_time": "2022-02-11T10:29:10.185Z"
   },
   {
    "duration": 27106,
    "start_time": "2022-02-11T10:30:51.357Z"
   },
   {
    "duration": 24,
    "start_time": "2022-02-11T10:31:18.466Z"
   },
   {
    "duration": 266,
    "start_time": "2022-02-11T10:31:18.494Z"
   },
   {
    "duration": 178,
    "start_time": "2022-02-11T10:31:18.763Z"
   },
   {
    "duration": 244,
    "start_time": "2022-02-11T10:31:18.944Z"
   },
   {
    "duration": 4,
    "start_time": "2022-02-11T10:31:19.191Z"
   },
   {
    "duration": 16,
    "start_time": "2022-02-11T10:31:19.197Z"
   },
   {
    "duration": 5,
    "start_time": "2022-02-11T10:31:19.217Z"
   },
   {
    "duration": 71,
    "start_time": "2022-02-11T10:31:19.225Z"
   },
   {
    "duration": 1441,
    "start_time": "2022-02-11T10:31:19.299Z"
   },
   {
    "duration": 61,
    "start_time": "2022-02-11T10:31:20.742Z"
   },
   {
    "duration": 6,
    "start_time": "2022-02-11T10:31:20.806Z"
   },
   {
    "duration": 44,
    "start_time": "2022-02-11T10:31:20.815Z"
   },
   {
    "duration": 77320,
    "start_time": "2022-02-11T10:31:20.863Z"
   },
   {
    "duration": 42,
    "start_time": "2022-02-11T10:32:38.186Z"
   },
   {
    "duration": 37,
    "start_time": "2022-02-11T10:32:38.231Z"
   },
   {
    "duration": 39,
    "start_time": "2022-02-11T10:32:38.271Z"
   },
   {
    "duration": 17,
    "start_time": "2022-02-11T10:32:38.313Z"
   },
   {
    "duration": 107,
    "start_time": "2022-02-11T10:32:38.333Z"
   },
   {
    "duration": 500,
    "start_time": "2022-02-11T10:32:38.443Z"
   },
   {
    "duration": 115,
    "start_time": "2022-02-11T10:33:51.356Z"
   },
   {
    "duration": 244084,
    "start_time": "2022-02-11T10:33:51.474Z"
   },
   {
    "duration": 1625,
    "start_time": "2022-02-11T10:37:55.562Z"
   },
   {
    "duration": 24,
    "start_time": "2022-02-11T10:37:57.190Z"
   },
   {
    "duration": 261,
    "start_time": "2022-02-11T10:37:57.216Z"
   },
   {
    "duration": 173,
    "start_time": "2022-02-11T10:37:57.480Z"
   },
   {
    "duration": 257,
    "start_time": "2022-02-11T10:37:57.660Z"
   },
   {
    "duration": 5,
    "start_time": "2022-02-11T10:37:57.922Z"
   },
   {
    "duration": 29,
    "start_time": "2022-02-11T10:37:57.930Z"
   },
   {
    "duration": 4,
    "start_time": "2022-02-11T10:37:57.961Z"
   },
   {
    "duration": 67,
    "start_time": "2022-02-11T10:37:57.968Z"
   },
   {
    "duration": 1488,
    "start_time": "2022-02-11T10:37:58.058Z"
   },
   {
    "duration": 57,
    "start_time": "2022-02-11T10:37:59.559Z"
   },
   {
    "duration": 6,
    "start_time": "2022-02-11T10:37:59.619Z"
   },
   {
    "duration": 35,
    "start_time": "2022-02-11T10:37:59.627Z"
   },
   {
    "duration": 85378,
    "start_time": "2022-02-11T10:37:59.665Z"
   },
   {
    "duration": 46,
    "start_time": "2022-02-11T10:39:25.047Z"
   },
   {
    "duration": 16,
    "start_time": "2022-02-11T10:39:25.095Z"
   },
   {
    "duration": 51,
    "start_time": "2022-02-11T10:39:25.113Z"
   },
   {
    "duration": 19,
    "start_time": "2022-02-11T10:39:25.166Z"
   },
   {
    "duration": 90,
    "start_time": "2022-02-11T10:39:25.187Z"
   },
   {
    "duration": 19047,
    "start_time": "2022-02-11T10:39:25.280Z"
   },
   {
    "duration": 45,
    "start_time": "2022-02-11T10:39:44.331Z"
   },
   {
    "duration": 7,
    "start_time": "2022-02-11T10:39:44.379Z"
   },
   {
    "duration": 172,
    "start_time": "2022-02-11T10:39:44.389Z"
   },
   {
    "duration": 99,
    "start_time": "2022-02-11T10:39:44.563Z"
   },
   {
    "duration": 46,
    "start_time": "2022-02-11T10:39:44.665Z"
   },
   {
    "duration": 80,
    "start_time": "2022-02-11T10:39:44.713Z"
   },
   {
    "duration": 83,
    "start_time": "2022-02-11T10:39:44.796Z"
   },
   {
    "duration": 4,
    "start_time": "2022-02-11T10:39:44.881Z"
   }
  ],
  "kernelspec": {
   "display_name": "Python 3 (ipykernel)",
   "language": "python",
   "name": "python3"
  },
  "language_info": {
   "codemirror_mode": {
    "name": "ipython",
    "version": 3
   },
   "file_extension": ".py",
   "mimetype": "text/x-python",
   "name": "python",
   "nbconvert_exporter": "python",
   "pygments_lexer": "ipython3",
   "version": "3.9.6"
  },
  "toc": {
   "base_numbering": 1,
   "nav_menu": {},
   "number_sections": true,
   "sideBar": true,
   "skip_h1_title": true,
   "title_cell": "Table of Contents",
   "title_sidebar": "Contents",
   "toc_cell": false,
   "toc_position": {},
   "toc_section_display": true,
   "toc_window_display": false
  }
 },
 "nbformat": 4,
 "nbformat_minor": 5
}
